{
  "nbformat": 4,
  "nbformat_minor": 0,
  "metadata": {
    "colab": {
      "provenance": []
    },
    "kernelspec": {
      "name": "python3",
      "display_name": "Python 3"
    },
    "language_info": {
      "name": "python"
    }
  },
  "cells": [
    {
      "cell_type": "code",
      "execution_count": 14,
      "metadata": {
        "id": "suOpYNoV9_u9"
      },
      "outputs": [],
      "source": [
        "import re\n",
        "\n",
        "def simple_chatbot(user_input):\n",
        "    # Convert user input to lowercase for case-insensitive matching\n",
        "    user_input = user_input.lower()\n",
        "\n",
        "    # Define rules and responses\n",
        "    greetings = ['hello', 'hi', 'hey', 'greetings']\n",
        "    farewells = ['bye', 'goodbye', 'see you', 'farewell']\n",
        "    questions = ['how are you', 'what is your name', 'who are you', 'what do you do', 'what is your favorite color']\n",
        "    default_response = \"I'm a simple chatbot. You can greet me or ask me something.\"\n",
        "\n",
        "    # Check for matches and provide responses\n",
        "    if any(greeting in user_input for greeting in greetings):\n",
        "        return \"Hello! How can I help you today?\"\n",
        "\n",
        "    elif any(farewell in user_input for farewell in farewells):\n",
        "        return \"Goodbye! Have a great day.\"\n",
        "\n",
        "    elif any(question in user_input for question in questions):\n",
        "        if 'how are you' in user_input:\n",
        "            return \"I'm a computer program, but thanks for asking! How can I assist you?\"\n",
        "        elif 'what is your name' in user_input or 'who are you' in user_input:\n",
        "            return \"I'm a chatbot. You can call me OUBAIDA.\"\n",
        "        elif 'what do you do' in user_input:\n",
        "            return \"I'm here to chat with you and answer your questions. What can I do for you today?\"\n",
        "        elif 'what is your favorite color' in user_input:\n",
        "            return \"As a program, I don't have a favorite color. But let's talk about your preferences instead!\"\n",
        "        else:\n",
        "            return \"I'm just a chatbot. You can call me OUBAIDA.\"\n",
        "\n",
        "    else:\n",
        "        return default_response"
      ]
    },
    {
      "cell_type": "code",
      "source": [
        "\n",
        "# Example usage\n",
        "print(\"I'm OUBAIDA how can i help you \")\n",
        "print(\"___________________________________\")\n",
        "while True:\n",
        "    user_input = input(\"You: \")\n",
        "\n",
        "    if user_input.lower() == 'exit':\n",
        "        print(\"Chatbot: Goodbye!\")\n",
        "        break\n",
        "    response = simple_chatbot(user_input)\n",
        "    print(\"Chatbot:\", response)\n"
      ],
      "metadata": {
        "colab": {
          "base_uri": "https://localhost:8080/"
        },
        "id": "vNIUfN-n_ehb",
        "outputId": "e2cfcd0d-18a8-466e-8a62-b2a34c9a39c9"
      },
      "execution_count": null,
      "outputs": [
        {
          "output_type": "stream",
          "name": "stdout",
          "text": [
            "I'm OUBAIDA how can i help you \n",
            "___________________________________\n",
            "You: how are you\n",
            "Chatbot: I'm a computer program, but thanks for asking! How can I assist you?\n",
            "You: what is your favorite color\n",
            "Chatbot: As a program, I don't have a favorite color. But let's talk about your preferences instead!\n",
            "You: ok\n",
            "Chatbot: I'm a simple chatbot. You can greet me or ask me something.\n"
          ]
        }
      ]
    },
    {
      "cell_type": "code",
      "source": [],
      "metadata": {
        "id": "LptJap6A_fSu"
      },
      "execution_count": null,
      "outputs": []
    }
  ]
}